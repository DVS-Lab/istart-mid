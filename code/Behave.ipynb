{
 "cells": [
  {
   "cell_type": "code",
   "execution_count": 12,
   "id": "c229d920",
   "metadata": {},
   "outputs": [],
   "source": [
    "import os\n",
    "import pandas as pd\n",
    "import numpy as np\n",
    "import seaborn as sms"
   ]
  },
  {
   "cell_type": "code",
   "execution_count": 13,
   "id": "b5c8a44b",
   "metadata": {},
   "outputs": [
    {
     "data": {
      "text/html": [
       "<div>\n",
       "<style scoped>\n",
       "    .dataframe tbody tr th:only-of-type {\n",
       "        vertical-align: middle;\n",
       "    }\n",
       "\n",
       "    .dataframe tbody tr th {\n",
       "        vertical-align: top;\n",
       "    }\n",
       "\n",
       "    .dataframe thead th {\n",
       "        text-align: right;\n",
       "    }\n",
       "</style>\n",
       "<table border=\"1\" class=\"dataframe\">\n",
       "  <thead>\n",
       "    <tr style=\"text-align: right;\">\n",
       "      <th></th>\n",
       "      <th>Sub</th>\n",
       "      <th>task</th>\n",
       "      <th>run</th>\n",
       "      <th>tsnr</th>\n",
       "      <th>fd_mean</th>\n",
       "      <th>outlier_run</th>\n",
       "      <th>sub_run</th>\n",
       "    </tr>\n",
       "  </thead>\n",
       "  <tbody>\n",
       "    <tr>\n",
       "      <th>0</th>\n",
       "      <td>sub-1001</td>\n",
       "      <td>mid</td>\n",
       "      <td>1</td>\n",
       "      <td>69.988391</td>\n",
       "      <td>0.149729</td>\n",
       "      <td>False</td>\n",
       "      <td>sub-1001_1</td>\n",
       "    </tr>\n",
       "    <tr>\n",
       "      <th>1</th>\n",
       "      <td>sub-1001</td>\n",
       "      <td>mid</td>\n",
       "      <td>2</td>\n",
       "      <td>55.697644</td>\n",
       "      <td>0.184703</td>\n",
       "      <td>False</td>\n",
       "      <td>sub-1001_2</td>\n",
       "    </tr>\n",
       "    <tr>\n",
       "      <th>2</th>\n",
       "      <td>sub-1002</td>\n",
       "      <td>mid</td>\n",
       "      <td>1</td>\n",
       "      <td>77.148079</td>\n",
       "      <td>0.111157</td>\n",
       "      <td>False</td>\n",
       "      <td>sub-1002_1</td>\n",
       "    </tr>\n",
       "    <tr>\n",
       "      <th>3</th>\n",
       "      <td>sub-1002</td>\n",
       "      <td>mid</td>\n",
       "      <td>2</td>\n",
       "      <td>90.519196</td>\n",
       "      <td>0.092381</td>\n",
       "      <td>False</td>\n",
       "      <td>sub-1002_2</td>\n",
       "    </tr>\n",
       "    <tr>\n",
       "      <th>4</th>\n",
       "      <td>sub-1003</td>\n",
       "      <td>mid</td>\n",
       "      <td>1</td>\n",
       "      <td>66.602654</td>\n",
       "      <td>0.171448</td>\n",
       "      <td>False</td>\n",
       "      <td>sub-1003_1</td>\n",
       "    </tr>\n",
       "  </tbody>\n",
       "</table>\n",
       "</div>"
      ],
      "text/plain": [
       "        Sub task  run       tsnr   fd_mean  outlier_run     sub_run\n",
       "0  sub-1001  mid    1  69.988391  0.149729        False  sub-1001_1\n",
       "1  sub-1001  mid    2  55.697644  0.184703        False  sub-1001_2\n",
       "2  sub-1002  mid    1  77.148079  0.111157        False  sub-1002_1\n",
       "3  sub-1002  mid    2  90.519196  0.092381        False  sub-1002_2\n",
       "4  sub-1003  mid    1  66.602654  0.171448        False  sub-1003_1"
      ]
     },
     "execution_count": 13,
     "metadata": {},
     "output_type": "execute_result"
    }
   ],
   "source": [
    "os.listdir('../derivatives/')\n",
    "sub_df=pd.read_csv('../derivatives/OutlierRuns.tsv',sep='\\t')\n",
    "\n",
    "sub_df=sub_df[sub_df['outlier_run']==False]\n",
    "sub_df['sub_run']=sub_df['Sub']+'_'+sub_df['run'].astype('str')\n",
    "sub_df.head()"
   ]
  },
  {
   "cell_type": "code",
   "execution_count": 14,
   "id": "6d025585",
   "metadata": {},
   "outputs": [
    {
     "name": "stdout",
     "output_type": "stream",
     "text": [
      "The number of Subjects are: 60\n",
      "The number of files are: 83\n",
      "----------------------------------------\n"
     ]
    },
    {
     "name": "stderr",
     "output_type": "stream",
     "text": [
      "/tmp/ipykernel_4189575/2876148422.py:22: FutureWarning: elementwise comparison failed; returning scalar instead, but in the future will perform elementwise comparison\n",
      "  run1 = np.where(run1==['1'], 'Large_gain', run1)\n",
      "/tmp/ipykernel_4189575/2876148422.py:23: FutureWarning: elementwise comparison failed; returning scalar instead, but in the future will perform elementwise comparison\n",
      "  run1 = np.where(run1==[1], 'Large_gain', run1)\n"
     ]
    }
   ],
   "source": [
    "#Import the Libraries\n",
    "import numpy as np\n",
    "from scipy.io import loadmat  # this is the SciPy module that loads mat-files\n",
    "import matplotlib.pyplot as plt\n",
    "from datetime import datetime, date, time\n",
    "import pandas as pd\n",
    "import os\n",
    "from natsort import natsorted\n",
    "import re\n",
    "\n",
    "#Make a list of the files\n",
    "Mat_Beh_dir='/data/projects/istart/Monetary_Incentive/data'\n",
    "ML_EvFiles_list=natsorted([os.path.join(root,f) for root,dirs,files in os.walk(\n",
    "    Mat_Beh_dir) for f in files if 'run' in f])\n",
    "\n",
    "print(\"The number of Subjects are: %s\"%(len([x for x in os.listdir(Mat_Beh_dir) if x.startswith('sub')])))\n",
    "print(\"The number of files are: %s\"%(len(ML_EvFiles_list)))\n",
    "print(\"----------------------------------------\")\n",
    "#Make Conditions for Run1 and Run2\n",
    "run_cond=loadmat('%s/../timing/run1.mat'%(Mat_Beh_dir))\n",
    "run1=run_cond['run']['cond'][0,0]\n",
    "run1 = np.where(run1==['1'], 'Large_gain', run1)\n",
    "run1 = np.where(run1==[1], 'Large_gain', run1)\n",
    "run1 = np.where(run1==['2'], 'Large_loss', run1)\n",
    "run1 = np.where(run1==['3'], 'Small_gain', run1)\n",
    "run1 = np.where(run1==['4'], 'Small_loss', run1)\n",
    "run1 = np.where(run1==['5'], 'Neutral', run1)\n",
    "run1=np.concatenate(run1)\n",
    "\n",
    "run_cond=loadmat('%s/../timing/run2.mat'%(Mat_Beh_dir))\n",
    "run2=run_cond['run']['cond'][0,0]\n",
    "run2 = np.where(run2==[1], 'Large_gain', run2)\n",
    "run2 = np.where(run2==['1'], 'Large_gain', run2)\n",
    "run2 = np.where(run2==['2'], 'Large_loss', run2)\n",
    "run2 = np.where(run2==['3'], 'Small_gain', run2)\n",
    "run2 = np.where(run2==['4'], 'Small_loss', run2)\n",
    "run2 = np.where(run2==['5'], 'Neutral', run2)\n",
    "run2=np.concatenate(run2)\n"
   ]
  },
  {
   "cell_type": "code",
   "execution_count": 15,
   "id": "bd29e56a",
   "metadata": {},
   "outputs": [
    {
     "data": {
      "text/plain": [
       "['/data/projects/istart/Monetary_Incentive/data/sub-1001/run-1_output.mat',\n",
       " '/data/projects/istart/Monetary_Incentive/data/sub-1001/run-2_output.mat',\n",
       " '/data/projects/istart/Monetary_Incentive/data/sub-1002/run-1_output.mat',\n",
       " '/data/projects/istart/Monetary_Incentive/data/sub-1002/run-2_output.mat',\n",
       " '/data/projects/istart/Monetary_Incentive/data/sub-1003/run-1_output.mat',\n",
       " '/data/projects/istart/Monetary_Incentive/data/sub-1004/run-1_output.mat',\n",
       " '/data/projects/istart/Monetary_Incentive/data/sub-1004/run-2_output.mat',\n",
       " '/data/projects/istart/Monetary_Incentive/data/sub-1006/run-1_output.mat',\n",
       " '/data/projects/istart/Monetary_Incentive/data/sub-1007/run-1_output.mat',\n",
       " '/data/projects/istart/Monetary_Incentive/data/sub-1007/run-2_output.mat',\n",
       " '/data/projects/istart/Monetary_Incentive/data/sub-1009/run-1_output.mat',\n",
       " '/data/projects/istart/Monetary_Incentive/data/sub-1009/run-2_output.mat',\n",
       " '/data/projects/istart/Monetary_Incentive/data/sub-1010/run-1_output.mat',\n",
       " '/data/projects/istart/Monetary_Incentive/data/sub-1010/run-2_output.mat',\n",
       " '/data/projects/istart/Monetary_Incentive/data/sub-1011/run-1_output.mat',\n",
       " '/data/projects/istart/Monetary_Incentive/data/sub-1011/run-2_output.mat',\n",
       " '/data/projects/istart/Monetary_Incentive/data/sub-1012/run-1_output.mat',\n",
       " '/data/projects/istart/Monetary_Incentive/data/sub-1012/run-2_output.mat',\n",
       " '/data/projects/istart/Monetary_Incentive/data/sub-1013/run-1_output.mat',\n",
       " '/data/projects/istart/Monetary_Incentive/data/sub-1013/run-2_output.mat',\n",
       " '/data/projects/istart/Monetary_Incentive/data/sub-1015/run-1_output.mat',\n",
       " '/data/projects/istart/Monetary_Incentive/data/sub-1015/run-2_output.mat',\n",
       " '/data/projects/istart/Monetary_Incentive/data/sub-1016/run-1_output.mat',\n",
       " '/data/projects/istart/Monetary_Incentive/data/sub-1016/run-2_output.mat',\n",
       " '/data/projects/istart/Monetary_Incentive/data/sub-1019/run-1_output.mat',\n",
       " '/data/projects/istart/Monetary_Incentive/data/sub-1019/run-2_output.mat',\n",
       " '/data/projects/istart/Monetary_Incentive/data/sub-1021/run-1_output.mat',\n",
       " '/data/projects/istart/Monetary_Incentive/data/sub-1021/run-2_output.mat',\n",
       " '/data/projects/istart/Monetary_Incentive/data/sub-1242/run-1_output.mat',\n",
       " '/data/projects/istart/Monetary_Incentive/data/sub-1243/run-1_output.mat',\n",
       " '/data/projects/istart/Monetary_Incentive/data/sub-1243/run-2_output.mat',\n",
       " '/data/projects/istart/Monetary_Incentive/data/sub-1244/run-1_output.mat',\n",
       " '/data/projects/istart/Monetary_Incentive/data/sub-1244/run-2_output.mat',\n",
       " '/data/projects/istart/Monetary_Incentive/data/sub-1245/run-1_output.mat',\n",
       " '/data/projects/istart/Monetary_Incentive/data/sub-1245/run-2_output.mat',\n",
       " '/data/projects/istart/Monetary_Incentive/data/sub-1247/run-1_output.mat',\n",
       " '/data/projects/istart/Monetary_Incentive/data/sub-1247/run-2_output.mat',\n",
       " '/data/projects/istart/Monetary_Incentive/data/sub-1248/run-1_output.mat',\n",
       " '/data/projects/istart/Monetary_Incentive/data/sub-1248/run-2_output.mat',\n",
       " '/data/projects/istart/Monetary_Incentive/data/sub-1249/run-1_output.mat',\n",
       " '/data/projects/istart/Monetary_Incentive/data/sub-1249/run-2_output.mat',\n",
       " '/data/projects/istart/Monetary_Incentive/data/sub-1253/run-1_output.mat',\n",
       " '/data/projects/istart/Monetary_Incentive/data/sub-1253/run-2_output.mat',\n",
       " '/data/projects/istart/Monetary_Incentive/data/sub-1255/run-1_output.mat',\n",
       " '/data/projects/istart/Monetary_Incentive/data/sub-1255/run-2_output.mat',\n",
       " '/data/projects/istart/Monetary_Incentive/data/sub-1276/run-1_output.mat',\n",
       " '/data/projects/istart/Monetary_Incentive/data/sub-1282/run-1_output.mat',\n",
       " '/data/projects/istart/Monetary_Incentive/data/sub-1285/run-2_output.mat',\n",
       " '/data/projects/istart/Monetary_Incentive/data/sub-1286/run-1_output.mat',\n",
       " '/data/projects/istart/Monetary_Incentive/data/sub-1294/run-1_output.mat',\n",
       " '/data/projects/istart/Monetary_Incentive/data/sub-1300/run-1_output.mat',\n",
       " '/data/projects/istart/Monetary_Incentive/data/sub-1300/run-2_output.mat',\n",
       " '/data/projects/istart/Monetary_Incentive/data/sub-1301/run-1_output.mat',\n",
       " '/data/projects/istart/Monetary_Incentive/data/sub-1301/run-2_output.mat',\n",
       " '/data/projects/istart/Monetary_Incentive/data/sub-1302/run-1_output.mat',\n",
       " '/data/projects/istart/Monetary_Incentive/data/sub-1303/run-1_output.mat',\n",
       " '/data/projects/istart/Monetary_Incentive/data/sub-1999/run-1_output.mat',\n",
       " '/data/projects/istart/Monetary_Incentive/data/sub-1999/run-2_output.mat',\n",
       " '/data/projects/istart/Monetary_Incentive/data/sub-3101/run-1_output.mat',\n",
       " '/data/projects/istart/Monetary_Incentive/data/sub-3116/run-1_output.mat',\n",
       " '/data/projects/istart/Monetary_Incentive/data/sub-3122/run-1_output.mat',\n",
       " '/data/projects/istart/Monetary_Incentive/data/sub-3125/run-1_output.mat',\n",
       " '/data/projects/istart/Monetary_Incentive/data/sub-3140/run-1_output.mat',\n",
       " '/data/projects/istart/Monetary_Incentive/data/sub-3143/run-1_output.mat',\n",
       " '/data/projects/istart/Monetary_Incentive/data/sub-3152/run-1_output.mat',\n",
       " '/data/projects/istart/Monetary_Incentive/data/sub-3164/run-1_output.mat',\n",
       " '/data/projects/istart/Monetary_Incentive/data/sub-3166/run-1_output.mat',\n",
       " '/data/projects/istart/Monetary_Incentive/data/sub-3167/run-1_output.mat',\n",
       " '/data/projects/istart/Monetary_Incentive/data/sub-3170/run-1_output.mat',\n",
       " '/data/projects/istart/Monetary_Incentive/data/sub-3173/run-1_output.mat',\n",
       " '/data/projects/istart/Monetary_Incentive/data/sub-3175/run-1_output.mat',\n",
       " '/data/projects/istart/Monetary_Incentive/data/sub-3176/run-1_output.mat',\n",
       " '/data/projects/istart/Monetary_Incentive/data/sub-3186/run-1_output.mat',\n",
       " '/data/projects/istart/Monetary_Incentive/data/sub-3189/run-1_output.mat',\n",
       " '/data/projects/istart/Monetary_Incentive/data/sub-3190/run-1_output.mat',\n",
       " '/data/projects/istart/Monetary_Incentive/data/sub-3199/run-1_output.mat',\n",
       " '/data/projects/istart/Monetary_Incentive/data/sub-3200/run-1_output.mat',\n",
       " '/data/projects/istart/Monetary_Incentive/data/sub-3206/run-1_output.mat',\n",
       " '/data/projects/istart/Monetary_Incentive/data/sub-3210/run-1_output.mat',\n",
       " '/data/projects/istart/Monetary_Incentive/data/sub-3212/run-1_output.mat',\n",
       " '/data/projects/istart/Monetary_Incentive/data/sub-3218/run-1_output.mat',\n",
       " '/data/projects/istart/Monetary_Incentive/data/sub-3220/run-1_output.mat',\n",
       " '/data/projects/istart/Monetary_Incentive/data/sub-3223/run-1_output.mat']"
      ]
     },
     "metadata": {},
     "output_type": "display_data"
    }
   ],
   "source": [
    "display(ML_EvFiles_list)"
   ]
  },
  {
   "cell_type": "code",
   "execution_count": 16,
   "id": "567eaccc",
   "metadata": {},
   "outputs": [
    {
     "data": {
      "text/plain": [
       "48"
      ]
     },
     "execution_count": 16,
     "metadata": {},
     "output_type": "execute_result"
    }
   ],
   "source": [
    "data_dir='/data/projects/istart/Monetary_Incentive/'\n",
    "len(os.listdir('%s/bids_archive/bids'%(data_dir)))"
   ]
  },
  {
   "cell_type": "code",
   "execution_count": 17,
   "id": "73390f55",
   "metadata": {},
   "outputs": [
    {
     "data": {
      "text/plain": [
       "51"
      ]
     },
     "execution_count": 17,
     "metadata": {},
     "output_type": "execute_result"
    }
   ],
   "source": [
    "len(sub_df['Sub'].unique())"
   ]
  },
  {
   "cell_type": "code",
   "execution_count": 18,
   "id": "5545fadc",
   "metadata": {},
   "outputs": [],
   "source": [
    "data=[]\n",
    "for ML_EvFile in ML_EvFiles_list:\n",
    "    #print(ML_EvFile)\n",
    "    sub='sub-'+re.search('sub-(.*)/',ML_EvFile).group(1)\n",
    "    run=re.search('run-(.*)_out',ML_EvFile).group(1)\n",
    "    if sub+'_'+run in sub_df['sub_run'].values:\n",
    "        #print(sub,run)\n",
    "        mat = loadmat(ML_EvFile)  # load mat-file\n",
    "        mdata = mat['output']  # variable in mat file\n",
    "        mdtype = mdata.dtype  # dtypes of structures are \"unsized objects\"\n",
    "        # * SciiencPy reads in structures as structureprintd NumPy arrays of dtype object\n",
    "        # * The size of the array is the size of the structure array, not the number\n",
    "        #   elements in any particular field. The shape defaults to 2-dimensional.\n",
    "        # * For convene make a dictionary of the data using the names from dtypes\n",
    "        # * Since the structure has only one element, but is 2-D, index it at [0, 0]\n",
    "        ndata = {n: mdata[n][0, 0] for n in mdtype.names}\n",
    "        # Reconstruct the columns of the data table from just the time series\n",
    "        # Use the number of intervals to test if a field is a column or metadata\n",
    "        columns = [n for n in ndata]\n",
    "        #Check fo frame\n",
    "        # now make a data frame, setting the time stamps as the index\n",
    "        lens=[len(x[0]) for x in ndata.values()]\n",
    "        if lens.count(lens[0]) == len(lens):\n",
    "            df = pd.DataFrame(np.transpose(np.concatenate([ndata[c] for c in columns])),\n",
    "                      columns=columns)\n",
    "            if run=='1':\n",
    "                if len(df)==50:\n",
    "                    df['trial_type']=run1[0:50]\n",
    "                elif len(df)==75:\n",
    "                    df['trial_type']=run1\n",
    "            if run=='2':\n",
    "                df['trial_type']=run2\n",
    "            df['sub']=sub\n",
    "            df['run']=run\n",
    "            data.append(df)\n",
    "df=pd.concat(data)"
   ]
  },
  {
   "cell_type": "code",
   "execution_count": 19,
   "id": "f674602a",
   "metadata": {},
   "outputs": [
    {
     "data": {
      "text/plain": [
       "<AxesSubplot:xlabel='RT', ylabel='Count'>"
      ]
     },
     "execution_count": 19,
     "metadata": {},
     "output_type": "execute_result"
    },
    {
     "data": {
      "image/png": "[encoded data removed]",
      "text/plain": [
       "<Figure size 640x480 with 1 Axes>"
      ]
     },
     "metadata": {},
     "output_type": "display_data"
    }
   ],
   "source": [
    "sms.histplot(x=df['RT'])"
   ]
  },
  {
   "cell_type": "code",
   "execution_count": 20,
   "id": "32cb26ae",
   "metadata": {},
   "outputs": [],
   "source": [
    "misses=[]\n",
    "for sub in df['sub'].unique():\n",
    "    tmp=df[df['sub']==sub]\n",
    "    for run in tmp['run'].unique():\n",
    "        tmp=tmp[tmp['run']==run]\n",
    "        misses.append(len(tmp[(tmp['RT']==0)&(tmp['outcome']==0)]))\n"
   ]
  },
  {
   "cell_type": "code",
   "execution_count": 21,
   "id": "53914c19",
   "metadata": {},
   "outputs": [
    {
     "data": {
      "text/html": [
       "<div>\n",
       "<style scoped>\n",
       "    .dataframe tbody tr th:only-of-type {\n",
       "        vertical-align: middle;\n",
       "    }\n",
       "\n",
       "    .dataframe tbody tr th {\n",
       "        vertical-align: top;\n",
       "    }\n",
       "\n",
       "    .dataframe thead th {\n",
       "        text-align: right;\n",
       "    }\n",
       "</style>\n",
       "<table border=\"1\" class=\"dataframe\">\n",
       "  <thead>\n",
       "    <tr style=\"text-align: right;\">\n",
       "      <th></th>\n",
       "      <th>sub</th>\n",
       "      <th>run</th>\n",
       "      <th>outcome</th>\n",
       "      <th>trial_starts</th>\n",
       "      <th>target_starts</th>\n",
       "      <th>RT</th>\n",
       "      <th>thresh</th>\n",
       "      <th>trial_type</th>\n",
       "    </tr>\n",
       "  </thead>\n",
       "  <tbody>\n",
       "    <tr>\n",
       "      <th>0</th>\n",
       "      <td>sub-1001</td>\n",
       "      <td>1</td>\n",
       "      <td>1.0</td>\n",
       "      <td>443.596841</td>\n",
       "      <td>445.607023</td>\n",
       "      <td>0.690546</td>\n",
       "      <td>0.584389</td>\n",
       "      <td>Small_loss</td>\n",
       "    </tr>\n",
       "    <tr>\n",
       "      <th>1</th>\n",
       "      <td>sub-1001</td>\n",
       "      <td>2</td>\n",
       "      <td>1.0</td>\n",
       "      <td>450.916843</td>\n",
       "      <td>454.927744</td>\n",
       "      <td>0.846985</td>\n",
       "      <td>0.511823</td>\n",
       "      <td>Small_loss</td>\n",
       "    </tr>\n",
       "    <tr>\n",
       "      <th>2</th>\n",
       "      <td>sub-1002</td>\n",
       "      <td>1</td>\n",
       "      <td>1.0</td>\n",
       "      <td>443.595531</td>\n",
       "      <td>445.605782</td>\n",
       "      <td>0.491392</td>\n",
       "      <td>0.464767</td>\n",
       "      <td>Small_loss</td>\n",
       "    </tr>\n",
       "    <tr>\n",
       "      <th>3</th>\n",
       "      <td>sub-1002</td>\n",
       "      <td>2</td>\n",
       "      <td>1.0</td>\n",
       "      <td>450.928644</td>\n",
       "      <td>454.939221</td>\n",
       "      <td>0.571258</td>\n",
       "      <td>0.466639</td>\n",
       "      <td>Small_loss</td>\n",
       "    </tr>\n",
       "    <tr>\n",
       "      <th>4</th>\n",
       "      <td>sub-1003</td>\n",
       "      <td>1</td>\n",
       "      <td>1.0</td>\n",
       "      <td>443.546470</td>\n",
       "      <td>445.555652</td>\n",
       "      <td>0.738533</td>\n",
       "      <td>0.496835</td>\n",
       "      <td>Small_loss</td>\n",
       "    </tr>\n",
       "    <tr>\n",
       "      <th>...</th>\n",
       "      <td>...</td>\n",
       "      <td>...</td>\n",
       "      <td>...</td>\n",
       "      <td>...</td>\n",
       "      <td>...</td>\n",
       "      <td>...</td>\n",
       "      <td>...</td>\n",
       "      <td>...</td>\n",
       "    </tr>\n",
       "    <tr>\n",
       "      <th>64</th>\n",
       "      <td>sub-3200</td>\n",
       "      <td>1</td>\n",
       "      <td>1.0</td>\n",
       "      <td>679.617062</td>\n",
       "      <td>682.619710</td>\n",
       "      <td>0.856139</td>\n",
       "      <td>0.459021</td>\n",
       "      <td>Small_loss</td>\n",
       "    </tr>\n",
       "    <tr>\n",
       "      <th>65</th>\n",
       "      <td>sub-3206</td>\n",
       "      <td>1</td>\n",
       "      <td>1.0</td>\n",
       "      <td>679.662808</td>\n",
       "      <td>682.665302</td>\n",
       "      <td>0.813503</td>\n",
       "      <td>0.693730</td>\n",
       "      <td>Small_loss</td>\n",
       "    </tr>\n",
       "    <tr>\n",
       "      <th>66</th>\n",
       "      <td>sub-3212</td>\n",
       "      <td>1</td>\n",
       "      <td>1.0</td>\n",
       "      <td>679.607846</td>\n",
       "      <td>682.610161</td>\n",
       "      <td>0.857764</td>\n",
       "      <td>0.456245</td>\n",
       "      <td>Small_loss</td>\n",
       "    </tr>\n",
       "    <tr>\n",
       "      <th>67</th>\n",
       "      <td>sub-3218</td>\n",
       "      <td>1</td>\n",
       "      <td>1.0</td>\n",
       "      <td>679.653301</td>\n",
       "      <td>682.655712</td>\n",
       "      <td>0.557942</td>\n",
       "      <td>0.466697</td>\n",
       "      <td>Small_loss</td>\n",
       "    </tr>\n",
       "    <tr>\n",
       "      <th>68</th>\n",
       "      <td>sub-3220</td>\n",
       "      <td>1</td>\n",
       "      <td>1.0</td>\n",
       "      <td>679.645557</td>\n",
       "      <td>682.648115</td>\n",
       "      <td>0.922452</td>\n",
       "      <td>0.596440</td>\n",
       "      <td>Small_loss</td>\n",
       "    </tr>\n",
       "  </tbody>\n",
       "</table>\n",
       "<p>69 rows × 8 columns</p>\n",
       "</div>"
      ],
      "text/plain": [
       "         sub  run  outcome  trial_starts  target_starts        RT    thresh  \\\n",
       "0   sub-1001    1      1.0    443.596841     445.607023  0.690546  0.584389   \n",
       "1   sub-1001    2      1.0    450.916843     454.927744  0.846985  0.511823   \n",
       "2   sub-1002    1      1.0    443.595531     445.605782  0.491392  0.464767   \n",
       "3   sub-1002    2      1.0    450.928644     454.939221  0.571258  0.466639   \n",
       "4   sub-1003    1      1.0    443.546470     445.555652  0.738533  0.496835   \n",
       "..       ...  ...      ...           ...            ...       ...       ...   \n",
       "64  sub-3200    1      1.0    679.617062     682.619710  0.856139  0.459021   \n",
       "65  sub-3206    1      1.0    679.662808     682.665302  0.813503  0.693730   \n",
       "66  sub-3212    1      1.0    679.607846     682.610161  0.857764  0.456245   \n",
       "67  sub-3218    1      1.0    679.653301     682.655712  0.557942  0.466697   \n",
       "68  sub-3220    1      1.0    679.645557     682.648115  0.922452  0.596440   \n",
       "\n",
       "    trial_type  \n",
       "0   Small_loss  \n",
       "1   Small_loss  \n",
       "2   Small_loss  \n",
       "3   Small_loss  \n",
       "4   Small_loss  \n",
       "..         ...  \n",
       "64  Small_loss  \n",
       "65  Small_loss  \n",
       "66  Small_loss  \n",
       "67  Small_loss  \n",
       "68  Small_loss  \n",
       "\n",
       "[69 rows x 8 columns]"
      ]
     },
     "execution_count": 21,
     "metadata": {},
     "output_type": "execute_result"
    }
   ],
   "source": [
    "df.loc[df[\"trial_type\"] == \"1\", \"trial_type\"] = \"Large_gain\"\n",
    "df['run']=df['run'].astype(int)\n",
    "df.groupby(by=['sub','run']).max().reset_index()\n"
   ]
  },
  {
   "cell_type": "code",
   "execution_count": 22,
   "id": "c4ff3953",
   "metadata": {},
   "outputs": [],
   "source": [
    "no_miss=df[(df['RT']>0.001)]\n",
    "no_miss[no_miss['RT']==0]\n",
    "df=no_miss"
   ]
  },
  {
   "cell_type": "code",
   "execution_count": 23,
   "id": "f55e802b",
   "metadata": {},
   "outputs": [
    {
     "data": {
      "text/plain": [
       "<AxesSubplot:xlabel='RT', ylabel='Count'>"
      ]
     },
     "execution_count": 23,
     "metadata": {},
     "output_type": "execute_result"
    },
    {
     "data": {
      "image/png": "[encoded data removed]",
      "text/plain": [
       "<Figure size 640x480 with 1 Axes>"
      ]
     },
     "metadata": {},
     "output_type": "display_data"
    }
   ],
   "source": [
    "sms.histplot(x=df['RT'])"
   ]
  },
  {
   "cell_type": "code",
   "execution_count": 29,
   "id": "d2bdfcec",
   "metadata": {},
   "outputs": [
    {
     "data": {
      "text/plain": [
       "array([-1,  0, -2,  2,  1])"
      ]
     },
     "execution_count": 29,
     "metadata": {},
     "output_type": "execute_result"
    }
   ],
   "source": [
    "df.loc[df[\"trial_type\"] == \"1\", \"trial_type\"] = \"Large_gain\"\n",
    "\n",
    "df['Trial_code']=df['trial_type'].map({\"Large_loss\":-2,\"Small_loss\":-1,\"Neutral\":0,\"Small_gain\":1,\"Large_gain\":2})\n",
    "df['Trial_code'].unique()"
   ]
  },
  {
   "cell_type": "code",
   "execution_count": 32,
   "id": "0360ed79",
   "metadata": {},
   "outputs": [
    {
     "data": {
      "text/html": [
       "<div>\n",
       "<style scoped>\n",
       "    .dataframe tbody tr th:only-of-type {\n",
       "        vertical-align: middle;\n",
       "    }\n",
       "\n",
       "    .dataframe tbody tr th {\n",
       "        vertical-align: top;\n",
       "    }\n",
       "\n",
       "    .dataframe thead th {\n",
       "        text-align: right;\n",
       "    }\n",
       "</style>\n",
       "<table border=\"1\" class=\"dataframe\">\n",
       "  <thead>\n",
       "    <tr style=\"text-align: right;\">\n",
       "      <th></th>\n",
       "      <th>sub</th>\n",
       "      <th>trial_type</th>\n",
       "      <th>outcome</th>\n",
       "      <th>trial_starts</th>\n",
       "      <th>target_starts</th>\n",
       "      <th>RT</th>\n",
       "      <th>thresh</th>\n",
       "      <th>run</th>\n",
       "      <th>Trial_code</th>\n",
       "    </tr>\n",
       "  </thead>\n",
       "  <tbody>\n",
       "    <tr>\n",
       "      <th>0</th>\n",
       "      <td>sub-1001</td>\n",
       "      <td>Large_gain</td>\n",
       "      <td>1.0</td>\n",
       "      <td>246.980226</td>\n",
       "      <td>249.991329</td>\n",
       "      <td>0.305435</td>\n",
       "      <td>0.418198</td>\n",
       "      <td>1.5</td>\n",
       "      <td>2.0</td>\n",
       "    </tr>\n",
       "    <tr>\n",
       "      <th>1</th>\n",
       "      <td>sub-1001</td>\n",
       "      <td>Large_loss</td>\n",
       "      <td>1.0</td>\n",
       "      <td>185.605540</td>\n",
       "      <td>188.116553</td>\n",
       "      <td>0.308371</td>\n",
       "      <td>0.411154</td>\n",
       "      <td>1.5</td>\n",
       "      <td>-2.0</td>\n",
       "    </tr>\n",
       "    <tr>\n",
       "      <th>2</th>\n",
       "      <td>sub-1001</td>\n",
       "      <td>Neutral</td>\n",
       "      <td>1.0</td>\n",
       "      <td>207.873973</td>\n",
       "      <td>209.884223</td>\n",
       "      <td>0.332187</td>\n",
       "      <td>0.443540</td>\n",
       "      <td>1.5</td>\n",
       "      <td>0.0</td>\n",
       "    </tr>\n",
       "    <tr>\n",
       "      <th>3</th>\n",
       "      <td>sub-1001</td>\n",
       "      <td>Small_gain</td>\n",
       "      <td>1.0</td>\n",
       "      <td>281.873566</td>\n",
       "      <td>285.883902</td>\n",
       "      <td>0.320507</td>\n",
       "      <td>0.376292</td>\n",
       "      <td>1.5</td>\n",
       "      <td>1.0</td>\n",
       "    </tr>\n",
       "    <tr>\n",
       "      <th>4</th>\n",
       "      <td>sub-1001</td>\n",
       "      <td>Small_loss</td>\n",
       "      <td>1.0</td>\n",
       "      <td>156.110382</td>\n",
       "      <td>159.620759</td>\n",
       "      <td>0.362250</td>\n",
       "      <td>0.426017</td>\n",
       "      <td>1.5</td>\n",
       "      <td>-1.0</td>\n",
       "    </tr>\n",
       "  </tbody>\n",
       "</table>\n",
       "</div>"
      ],
      "text/plain": [
       "        sub  trial_type  outcome  trial_starts  target_starts        RT  \\\n",
       "0  sub-1001  Large_gain      1.0    246.980226     249.991329  0.305435   \n",
       "1  sub-1001  Large_loss      1.0    185.605540     188.116553  0.308371   \n",
       "2  sub-1001     Neutral      1.0    207.873973     209.884223  0.332187   \n",
       "3  sub-1001  Small_gain      1.0    281.873566     285.883902  0.320507   \n",
       "4  sub-1001  Small_loss      1.0    156.110382     159.620759  0.362250   \n",
       "\n",
       "     thresh  run  Trial_code  \n",
       "0  0.418198  1.5         2.0  \n",
       "1  0.411154  1.5        -2.0  \n",
       "2  0.443540  1.5         0.0  \n",
       "3  0.376292  1.5         1.0  \n",
       "4  0.426017  1.5        -1.0  "
      ]
     },
     "metadata": {},
     "output_type": "display_data"
    },
    {
     "name": "stderr",
     "output_type": "stream",
     "text": [
      "/tmp/ipykernel_4189575/1342539350.py:5: FutureWarning: \n",
      "\n",
      "The `ci` parameter is deprecated. Use `errorbar=('ci', 68)` for the same effect.\n",
      "\n",
      "  sms.barplot(x='Trial_code',y='RT',data=group_df,ci=68)\n"
     ]
    },
    {
     "data": {
      "text/plain": [
       "<AxesSubplot:xlabel='Trial_code', ylabel='RT'>"
      ]
     },
     "execution_count": 32,
     "metadata": {},
     "output_type": "execute_result"
    },
    {
     "data": {
      "image/png": "[encoded data removed]",
      "text/plain": [
       "<Figure size 640x480 with 1 Axes>"
      ]
     },
     "metadata": {},
     "output_type": "display_data"
    }
   ],
   "source": [
    "df['run']=df['run'].astype(int)\n",
    "group_df=df.groupby(by=['sub','trial_type']).median()\n",
    "group_df=group_df.reset_index()\n",
    "display(group_df.head())\n",
    "sms.barplot(x='Trial_code',y='RT',data=group_df,ci=68)"
   ]
  },
  {
   "cell_type": "code",
   "execution_count": 35,
   "id": "fa088cc0",
   "metadata": {},
   "outputs": [
    {
     "name": "stdout",
     "output_type": "stream",
     "text": [
      "Is the Mean RT difference between large and small gains significant\n"
     ]
    },
    {
     "data": {
      "text/plain": [
       "Ttest_relResult(statistic=-2.779007797819919, pvalue=0.007760874307797847)"
      ]
     },
     "execution_count": 35,
     "metadata": {},
     "output_type": "execute_result"
    }
   ],
   "source": [
    "from scipy.stats import ttest_rel\n",
    "print(\"Is the Mean RT difference between large and small gains significant\")\n",
    "ttest_rel(group_df[group_df['trial_type']=='Large_gain']['RT'],\n",
    "         group_df[group_df['trial_type']=='Neutral']['RT'])"
   ]
  },
  {
   "cell_type": "code",
   "execution_count": 36,
   "id": "c005f8eb",
   "metadata": {},
   "outputs": [
    {
     "name": "stdout",
     "output_type": "stream",
     "text": [
      "Is the Mean RT difference between large and small losses significant\n"
     ]
    },
    {
     "data": {
      "text/plain": [
       "Ttest_relResult(statistic=-3.080052481734173, pvalue=0.0034201062580108766)"
      ]
     },
     "execution_count": 36,
     "metadata": {},
     "output_type": "execute_result"
    }
   ],
   "source": [
    "print(\"Is the Mean RT difference between large and small losses significant\")\n",
    "\n",
    "ttest_rel(group_df[group_df['trial_type']=='Large_loss']['RT'],\n",
    "         group_df[group_df['trial_type']=='Neutral']['RT'])"
   ]
  },
  {
   "cell_type": "code",
   "execution_count": 58,
   "id": "dd4c3df3",
   "metadata": {},
   "outputs": [],
   "source": [
    "import numpy as np\n",
    "\n",
    "data=[]\n",
    "#polynomial fit with degree = 2\n",
    "for sub in group_df['sub'].unique():\n",
    "    tmp=group_df[group_df['sub']==sub]\n",
    "    LG_RT=tmp[tmp['trial_type']==\"Large_gain\"]['RT'].values[0]\n",
    "    LL_RT=tmp[tmp['trial_type']==\"Large_loss\"]['RT'].values[0]\n",
    "    Neu_RT=tmp[tmp['trial_type']==\"Neutral\"]['RT'].values[0]\n",
    "    model = np.poly1d(np.polyfit(tmp['Trial_code'].values, tmp['RT'].values, 2))\n",
    "    \n",
    "    data.append([sub,model[2],\n",
    "                 LG_RT-Neu_RT,\n",
    "                 LL_RT-Neu_RT])\n",
    "Fits=pd.DataFrame(columns=['Sub','V_beta','LG-N','LL-N'],data=data)"
   ]
  },
  {
   "cell_type": "code",
   "execution_count": 59,
   "id": "f2e407d5",
   "metadata": {},
   "outputs": [],
   "source": [
    "Fits.to_csv('../derivatives/Fits_of_RT.csv',index=False)"
   ]
  },
  {
   "cell_type": "code",
   "execution_count": null,
   "id": "bb17df73",
   "metadata": {},
   "outputs": [],
   "source": []
  }
 ],
 "metadata": {
  "kernelspec": {
   "display_name": "Python 3 (ipykernel)",
   "language": "python",
   "name": "python3"
  },
  "language_info": {
   "codemirror_mode": {
    "name": "ipython",
    "version": 3
   },
   "file_extension": ".py",
   "mimetype": "text/x-python",
   "name": "python",
   "nbconvert_exporter": "python",
   "pygments_lexer": "ipython3",
   "version": "3.9.13"
  }
 },
 "nbformat": 4,
 "nbformat_minor": 5
}
